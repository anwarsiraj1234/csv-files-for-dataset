{
 "cells": [
  {
   "cell_type": "code",
   "execution_count": 17,
   "id": "b06fb7ef",
   "metadata": {},
   "outputs": [],
   "source": [
    "import pandas as pd\n",
    "import numpy as np"
   ]
  },
  {
   "cell_type": "code",
   "execution_count": 18,
   "id": "5846ed53",
   "metadata": {},
   "outputs": [
    {
     "data": {
      "text/html": [
       "<div>\n",
       "<style scoped>\n",
       "    .dataframe tbody tr th:only-of-type {\n",
       "        vertical-align: middle;\n",
       "    }\n",
       "\n",
       "    .dataframe tbody tr th {\n",
       "        vertical-align: top;\n",
       "    }\n",
       "\n",
       "    .dataframe thead th {\n",
       "        text-align: right;\n",
       "    }\n",
       "</style>\n",
       "<table border=\"1\" class=\"dataframe\">\n",
       "  <thead>\n",
       "    <tr style=\"text-align: right;\">\n",
       "      <th></th>\n",
       "      <th>Name</th>\n",
       "      <th>Age</th>\n",
       "      <th>Marital_Status</th>\n",
       "      <th>Institute</th>\n",
       "      <th>Area</th>\n",
       "    </tr>\n",
       "  </thead>\n",
       "  <tbody>\n",
       "    <tr>\n",
       "      <th>0</th>\n",
       "      <td>Salman</td>\n",
       "      <td>40</td>\n",
       "      <td>Married</td>\n",
       "      <td>NED-CCEE</td>\n",
       "      <td>Khi-East</td>\n",
       "    </tr>\n",
       "    <tr>\n",
       "      <th>1</th>\n",
       "      <td>Anwer</td>\n",
       "      <td>30</td>\n",
       "      <td>Married</td>\n",
       "      <td>NED-CCEE</td>\n",
       "      <td>Khi-West</td>\n",
       "    </tr>\n",
       "    <tr>\n",
       "      <th>2</th>\n",
       "      <td>Imran</td>\n",
       "      <td>45</td>\n",
       "      <td>Married</td>\n",
       "      <td>NED-CCEE</td>\n",
       "      <td>Khi South</td>\n",
       "    </tr>\n",
       "  </tbody>\n",
       "</table>\n",
       "</div>"
      ],
      "text/plain": [
       "     Name  Age Marital_Status Institute       Area\n",
       "0  Salman   40        Married  NED-CCEE   Khi-East\n",
       "1   Anwer   30        Married  NED-CCEE   Khi-West\n",
       "2   Imran   45        Married  NED-CCEE  Khi South"
      ]
     },
     "execution_count": 18,
     "metadata": {},
     "output_type": "execute_result"
    }
   ],
   "source": [
    "import numpy as np\n",
    "import pandas as pd\n",
    "# Define the dictionary\n",
    "dict1 = {\n",
    "             'Name': ['Salman', 'Anwer', 'Imran'],\n",
    "             'Age': [40, 30, 45],\n",
    "             'Marital_Status': ['Married', 'Married', 'Married'],\n",
    "             'Institute': ['NED-CCEE', 'NED-CCEE', 'NED-CCEE'],\n",
    "             'Area': ['Khi-East', 'Khi-West', 'Khi South'],\n",
    "}\n",
    "\n",
    "# Create a DataFrame\n",
    "df = pd.DataFrame(dict1)\n",
    "\n",
    "# Display the DataFrame\n",
    "df"
   ]
  },
  {
   "cell_type": "markdown",
   "id": "61e3ba22",
   "metadata": {},
   "source": [
    "# For Saving File in Excel/CSV format in same Folder/location\n",
    "\n",
    "df.to_csv('friend.csv')\n"
   ]
  },
  {
   "cell_type": "code",
   "execution_count": 11,
   "id": "682284fd",
   "metadata": {},
   "outputs": [],
   "source": [
    "df.to_csv('friend.csv')"
   ]
  },
  {
   "cell_type": "markdown",
   "id": "9e75f203",
   "metadata": {},
   "source": [
    "# for hiding/removing Index\n",
    "\n",
    "df.to_csv('friend_index_false.csv', index=False)"
   ]
  },
  {
   "cell_type": "code",
   "execution_count": 12,
   "id": "c503ab09",
   "metadata": {},
   "outputs": [
    {
     "data": {
      "text/html": [
       "<div>\n",
       "<style scoped>\n",
       "    .dataframe tbody tr th:only-of-type {\n",
       "        vertical-align: middle;\n",
       "    }\n",
       "\n",
       "    .dataframe tbody tr th {\n",
       "        vertical-align: top;\n",
       "    }\n",
       "\n",
       "    .dataframe thead th {\n",
       "        text-align: right;\n",
       "    }\n",
       "</style>\n",
       "<table border=\"1\" class=\"dataframe\">\n",
       "  <thead>\n",
       "    <tr style=\"text-align: right;\">\n",
       "      <th></th>\n",
       "      <th>Name</th>\n",
       "      <th>Age</th>\n",
       "      <th>Marital_Status</th>\n",
       "      <th>Institute</th>\n",
       "      <th>Area</th>\n",
       "    </tr>\n",
       "  </thead>\n",
       "  <tbody>\n",
       "    <tr>\n",
       "      <th>0</th>\n",
       "      <td>Salman</td>\n",
       "      <td>40</td>\n",
       "      <td>Married</td>\n",
       "      <td>NED-CCEE</td>\n",
       "      <td>Khi-East</td>\n",
       "    </tr>\n",
       "    <tr>\n",
       "      <th>1</th>\n",
       "      <td>Anwer</td>\n",
       "      <td>30</td>\n",
       "      <td>Married</td>\n",
       "      <td>NED-CCEE</td>\n",
       "      <td>Khi-West</td>\n",
       "    </tr>\n",
       "    <tr>\n",
       "      <th>2</th>\n",
       "      <td>Imran</td>\n",
       "      <td>45</td>\n",
       "      <td>Married</td>\n",
       "      <td>NED-CCEE</td>\n",
       "      <td>Khi South</td>\n",
       "    </tr>\n",
       "  </tbody>\n",
       "</table>\n",
       "</div>"
      ],
      "text/plain": [
       "     Name  Age Marital_Status Institute       Area\n",
       "0  Salman   40        Married  NED-CCEE   Khi-East\n",
       "1   Anwer   30        Married  NED-CCEE   Khi-West\n",
       "2   Imran   45        Married  NED-CCEE  Khi South"
      ]
     },
     "execution_count": 12,
     "metadata": {},
     "output_type": "execute_result"
    }
   ],
   "source": [
    "df.to_csv('friend_index_false.csv', index=False)\n",
    "df"
   ]
  },
  {
   "cell_type": "code",
   "execution_count": 13,
   "id": "17fe4ebe",
   "metadata": {},
   "outputs": [
    {
     "data": {
      "text/html": [
       "<div>\n",
       "<style scoped>\n",
       "    .dataframe tbody tr th:only-of-type {\n",
       "        vertical-align: middle;\n",
       "    }\n",
       "\n",
       "    .dataframe tbody tr th {\n",
       "        vertical-align: top;\n",
       "    }\n",
       "\n",
       "    .dataframe thead th {\n",
       "        text-align: right;\n",
       "    }\n",
       "</style>\n",
       "<table border=\"1\" class=\"dataframe\">\n",
       "  <thead>\n",
       "    <tr style=\"text-align: right;\">\n",
       "      <th></th>\n",
       "      <th>Name</th>\n",
       "      <th>Age</th>\n",
       "      <th>Marital_Status</th>\n",
       "      <th>Institute</th>\n",
       "      <th>Area</th>\n",
       "    </tr>\n",
       "  </thead>\n",
       "  <tbody>\n",
       "    <tr>\n",
       "      <th>0</th>\n",
       "      <td>Salman</td>\n",
       "      <td>40</td>\n",
       "      <td>Married</td>\n",
       "      <td>NED-CCEE</td>\n",
       "      <td>Khi-East</td>\n",
       "    </tr>\n",
       "    <tr>\n",
       "      <th>1</th>\n",
       "      <td>Anwer</td>\n",
       "      <td>30</td>\n",
       "      <td>Married</td>\n",
       "      <td>NED-CCEE</td>\n",
       "      <td>Khi-West</td>\n",
       "    </tr>\n",
       "    <tr>\n",
       "      <th>2</th>\n",
       "      <td>Imran</td>\n",
       "      <td>45</td>\n",
       "      <td>Married</td>\n",
       "      <td>NED-CCEE</td>\n",
       "      <td>Khi South</td>\n",
       "    </tr>\n",
       "  </tbody>\n",
       "</table>\n",
       "</div>"
      ],
      "text/plain": [
       "     Name  Age Marital_Status Institute       Area\n",
       "0  Salman   40        Married  NED-CCEE   Khi-East\n",
       "1   Anwer   30        Married  NED-CCEE   Khi-West\n",
       "2   Imran   45        Married  NED-CCEE  Khi South"
      ]
     },
     "execution_count": 13,
     "metadata": {},
     "output_type": "execute_result"
    }
   ],
   "source": [
    "df"
   ]
  },
  {
   "cell_type": "code",
   "execution_count": 14,
   "id": "2b7bd766",
   "metadata": {},
   "outputs": [
    {
     "data": {
      "text/plain": [
       "<bound method NDFrame.describe of      Name  Age Marital_Status Institute       Area\n",
       "0  Salman   40        Married  NED-CCEE   Khi-East\n",
       "1   Anwer   30        Married  NED-CCEE   Khi-West\n",
       "2   Imran   45        Married  NED-CCEE  Khi South>"
      ]
     },
     "execution_count": 14,
     "metadata": {},
     "output_type": "execute_result"
    }
   ],
   "source": [
    "df.describe"
   ]
  },
  {
   "cell_type": "code",
   "execution_count": 15,
   "id": "36657c39",
   "metadata": {},
   "outputs": [
    {
     "data": {
      "text/html": [
       "<div>\n",
       "<style scoped>\n",
       "    .dataframe tbody tr th:only-of-type {\n",
       "        vertical-align: middle;\n",
       "    }\n",
       "\n",
       "    .dataframe tbody tr th {\n",
       "        vertical-align: top;\n",
       "    }\n",
       "\n",
       "    .dataframe thead th {\n",
       "        text-align: right;\n",
       "    }\n",
       "</style>\n",
       "<table border=\"1\" class=\"dataframe\">\n",
       "  <thead>\n",
       "    <tr style=\"text-align: right;\">\n",
       "      <th></th>\n",
       "      <th>Name</th>\n",
       "      <th>Age</th>\n",
       "      <th>Marital_Status</th>\n",
       "      <th>Institute</th>\n",
       "      <th>Area</th>\n",
       "    </tr>\n",
       "  </thead>\n",
       "  <tbody>\n",
       "    <tr>\n",
       "      <th>0</th>\n",
       "      <td>Salman</td>\n",
       "      <td>40</td>\n",
       "      <td>Married</td>\n",
       "      <td>NED-CCEE</td>\n",
       "      <td>Khi-East</td>\n",
       "    </tr>\n",
       "    <tr>\n",
       "      <th>1</th>\n",
       "      <td>Anwer</td>\n",
       "      <td>30</td>\n",
       "      <td>Married</td>\n",
       "      <td>NED-CCEE</td>\n",
       "      <td>Khi-West</td>\n",
       "    </tr>\n",
       "    <tr>\n",
       "      <th>2</th>\n",
       "      <td>Imran</td>\n",
       "      <td>45</td>\n",
       "      <td>Married</td>\n",
       "      <td>NED-CCEE</td>\n",
       "      <td>Khi South</td>\n",
       "    </tr>\n",
       "  </tbody>\n",
       "</table>\n",
       "</div>"
      ],
      "text/plain": [
       "     Name  Age Marital_Status Institute       Area\n",
       "0  Salman   40        Married  NED-CCEE   Khi-East\n",
       "1   Anwer   30        Married  NED-CCEE   Khi-West\n",
       "2   Imran   45        Married  NED-CCEE  Khi South"
      ]
     },
     "execution_count": 15,
     "metadata": {},
     "output_type": "execute_result"
    }
   ],
   "source": [
    "df.tail()"
   ]
  },
  {
   "cell_type": "code",
   "execution_count": 16,
   "id": "2a964ccb",
   "metadata": {},
   "outputs": [
    {
     "data": {
      "text/html": [
       "<div>\n",
       "<style scoped>\n",
       "    .dataframe tbody tr th:only-of-type {\n",
       "        vertical-align: middle;\n",
       "    }\n",
       "\n",
       "    .dataframe tbody tr th {\n",
       "        vertical-align: top;\n",
       "    }\n",
       "\n",
       "    .dataframe thead th {\n",
       "        text-align: right;\n",
       "    }\n",
       "</style>\n",
       "<table border=\"1\" class=\"dataframe\">\n",
       "  <thead>\n",
       "    <tr style=\"text-align: right;\">\n",
       "      <th></th>\n",
       "      <th>Name</th>\n",
       "      <th>Age</th>\n",
       "      <th>Marital_Status</th>\n",
       "      <th>Institute</th>\n",
       "      <th>Area</th>\n",
       "    </tr>\n",
       "  </thead>\n",
       "  <tbody>\n",
       "    <tr>\n",
       "      <th>0</th>\n",
       "      <td>Salman</td>\n",
       "      <td>40</td>\n",
       "      <td>Married</td>\n",
       "      <td>NED-CCEE</td>\n",
       "      <td>Khi-East</td>\n",
       "    </tr>\n",
       "    <tr>\n",
       "      <th>1</th>\n",
       "      <td>Anwer</td>\n",
       "      <td>30</td>\n",
       "      <td>Married</td>\n",
       "      <td>NED-CCEE</td>\n",
       "      <td>Khi-West</td>\n",
       "    </tr>\n",
       "  </tbody>\n",
       "</table>\n",
       "</div>"
      ],
      "text/plain": [
       "     Name  Age Marital_Status Institute      Area\n",
       "0  Salman   40        Married  NED-CCEE  Khi-East\n",
       "1   Anwer   30        Married  NED-CCEE  Khi-West"
      ]
     },
     "execution_count": 16,
     "metadata": {},
     "output_type": "execute_result"
    }
   ],
   "source": [
    "df.head(2)      #statistical analysis"
   ]
  },
  {
   "cell_type": "code",
   "execution_count": null,
   "id": "16badbc5",
   "metadata": {},
   "outputs": [],
   "source": []
  },
  {
   "cell_type": "code",
   "execution_count": null,
   "id": "8f52b1e7",
   "metadata": {},
   "outputs": [],
   "source": []
  },
  {
   "cell_type": "code",
   "execution_count": null,
   "id": "bcba9078",
   "metadata": {},
   "outputs": [],
   "source": []
  }
 ],
 "metadata": {
  "kernelspec": {
   "display_name": "Python 3 (ipykernel)",
   "language": "python",
   "name": "python3"
  },
  "language_info": {
   "codemirror_mode": {
    "name": "ipython",
    "version": 3
   },
   "file_extension": ".py",
   "mimetype": "text/x-python",
   "name": "python",
   "nbconvert_exporter": "python",
   "pygments_lexer": "ipython3",
   "version": "3.11.4"
  }
 },
 "nbformat": 4,
 "nbformat_minor": 5
}
